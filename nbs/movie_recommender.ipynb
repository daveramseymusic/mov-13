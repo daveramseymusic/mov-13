{
 "cells": [
  {
   "cell_type": "markdown",
   "id": "43ba360b",
   "metadata": {},
   "source": [
    "# FastAI Movie Recommender\n",
    "> Type in your favorite movie and the model will return a list of similar movies."
   ]
  },
  {
   "cell_type": "code",
   "execution_count": null,
   "id": "0f662b1e",
   "metadata": {},
   "outputs": [],
   "source": [
    "#| default_exp movie_recommender"
   ]
  },
  {
   "cell_type": "markdown",
   "id": "11126279",
   "metadata": {},
   "source": [
    "[Fastai](https://youtu.be/p4ZZq0736Po?t=3724) is the library we use to train, load and run our model.  NB: we already trained our model so we'll only be loading it here."
   ]
  },
  {
   "cell_type": "code",
   "execution_count": null,
   "id": "48cc27a8",
   "metadata": {},
   "outputs": [],
   "source": [
    "#| hide\n",
    "!pip install -Uqq fastai "
   ]
  },
  {
   "cell_type": "code",
   "execution_count": null,
   "id": "c070c4db",
   "metadata": {},
   "outputs": [],
   "source": [
    "# import fastai\n",
    "# fastai"
   ]
  },
  {
   "cell_type": "markdown",
   "id": "787ee3b3",
   "metadata": {},
   "source": [
    "[Gradio](https://gradio.app/getting_started/) allows you to easily publish your model onto the web for peope to use."
   ]
  },
  {
   "cell_type": "code",
   "execution_count": null,
   "id": "ef590d16",
   "metadata": {},
   "outputs": [],
   "source": [
    "# !pip install gradio"
   ]
  },
  {
   "cell_type": "code",
   "execution_count": null,
   "id": "bd77e8fe",
   "metadata": {},
   "outputs": [
    {
     "name": "stdout",
     "output_type": "stream",
     "text": [
      "Requirement already satisfied: gradio in /opt/anaconda3/lib/python3.7/site-packages (3.4.0)\n",
      "Requirement already satisfied: pycryptodome in /opt/anaconda3/lib/python3.7/site-packages (from gradio) (3.15.0)\n",
      "Requirement already satisfied: pandas in /opt/anaconda3/lib/python3.7/site-packages (from gradio) (1.3.5)\n",
      "Requirement already satisfied: pillow in /opt/anaconda3/lib/python3.7/site-packages (from gradio) (9.2.0)\n",
      "Requirement already satisfied: requests in /opt/anaconda3/lib/python3.7/site-packages (from gradio) (2.28.1)\n",
      "Requirement already satisfied: httpx in /opt/anaconda3/lib/python3.7/site-packages (from gradio) (0.23.0)\n",
      "Requirement already satisfied: pydantic in /opt/anaconda3/lib/python3.7/site-packages (from gradio) (1.10.2)\n",
      "Requirement already satisfied: pyyaml in /opt/anaconda3/lib/python3.7/site-packages (from gradio) (6.0)\n",
      "Requirement already satisfied: fsspec in /opt/anaconda3/lib/python3.7/site-packages (from gradio) (2022.7.1)\n",
      "Requirement already satisfied: h11<0.13,>=0.11 in /opt/anaconda3/lib/python3.7/site-packages (from gradio) (0.12.0)\n",
      "Requirement already satisfied: orjson in /opt/anaconda3/lib/python3.7/site-packages (from gradio) (3.8.0)\n",
      "Requirement already satisfied: websockets in /opt/anaconda3/lib/python3.7/site-packages (from gradio) (10.3)\n",
      "Requirement already satisfied: fastapi in /opt/anaconda3/lib/python3.7/site-packages (from gradio) (0.85.0)\n",
      "Requirement already satisfied: ffmpy in /opt/anaconda3/lib/python3.7/site-packages (from gradio) (0.3.0)\n",
      "Requirement already satisfied: markdown-it-py[linkify,plugins] in /opt/anaconda3/lib/python3.7/site-packages (from gradio) (2.1.0)\n",
      "Requirement already satisfied: numpy in /opt/anaconda3/lib/python3.7/site-packages (from gradio) (1.21.5)\n",
      "Requirement already satisfied: python-multipart in /opt/anaconda3/lib/python3.7/site-packages (from gradio) (0.0.5)\n",
      "Requirement already satisfied: jinja2 in /opt/anaconda3/lib/python3.7/site-packages (from gradio) (3.0.3)\n",
      "Requirement already satisfied: paramiko in /opt/anaconda3/lib/python3.7/site-packages (from gradio) (2.11.0)\n",
      "Requirement already satisfied: uvicorn in /opt/anaconda3/lib/python3.7/site-packages (from gradio) (0.18.3)\n",
      "Requirement already satisfied: aiohttp in /opt/anaconda3/lib/python3.7/site-packages (from gradio) (3.8.1)\n",
      "Requirement already satisfied: matplotlib in /opt/anaconda3/lib/python3.7/site-packages (from gradio) (3.5.2)\n",
      "Requirement already satisfied: pydub in /opt/anaconda3/lib/python3.7/site-packages (from gradio) (0.25.1)\n",
      "Requirement already satisfied: asynctest==0.13.0 in /opt/anaconda3/lib/python3.7/site-packages (from aiohttp->gradio) (0.13.0)\n",
      "Requirement already satisfied: async-timeout<5.0,>=4.0.0a3 in /opt/anaconda3/lib/python3.7/site-packages (from aiohttp->gradio) (4.0.1)\n",
      "Requirement already satisfied: multidict<7.0,>=4.5 in /opt/anaconda3/lib/python3.7/site-packages (from aiohttp->gradio) (5.2.0)\n",
      "Requirement already satisfied: aiosignal>=1.1.2 in /opt/anaconda3/lib/python3.7/site-packages (from aiohttp->gradio) (1.2.0)\n",
      "Requirement already satisfied: attrs>=17.3.0 in /opt/anaconda3/lib/python3.7/site-packages (from aiohttp->gradio) (21.4.0)\n",
      "Requirement already satisfied: charset-normalizer<3.0,>=2.0 in /opt/anaconda3/lib/python3.7/site-packages (from aiohttp->gradio) (2.0.4)\n",
      "Requirement already satisfied: yarl<2.0,>=1.0 in /opt/anaconda3/lib/python3.7/site-packages (from aiohttp->gradio) (1.8.1)\n",
      "Requirement already satisfied: frozenlist>=1.1.1 in /opt/anaconda3/lib/python3.7/site-packages (from aiohttp->gradio) (1.2.0)\n",
      "Requirement already satisfied: typing-extensions>=3.7.4 in /opt/anaconda3/lib/python3.7/site-packages (from aiohttp->gradio) (4.3.0)\n",
      "Requirement already satisfied: starlette==0.20.4 in /opt/anaconda3/lib/python3.7/site-packages (from fastapi->gradio) (0.20.4)\n",
      "Requirement already satisfied: anyio<5,>=3.4.0 in /opt/anaconda3/lib/python3.7/site-packages (from starlette==0.20.4->fastapi->gradio) (3.5.0)\n",
      "Requirement already satisfied: httpcore<0.16.0,>=0.15.0 in /opt/anaconda3/lib/python3.7/site-packages (from httpx->gradio) (0.15.0)\n",
      "Requirement already satisfied: certifi in /opt/anaconda3/lib/python3.7/site-packages (from httpx->gradio) (2022.9.14)\n",
      "Requirement already satisfied: rfc3986[idna2008]<2,>=1.3 in /opt/anaconda3/lib/python3.7/site-packages (from httpx->gradio) (1.5.0)\n",
      "Requirement already satisfied: sniffio in /opt/anaconda3/lib/python3.7/site-packages (from httpx->gradio) (1.2.0)\n",
      "Requirement already satisfied: MarkupSafe>=2.0 in /opt/anaconda3/lib/python3.7/site-packages (from jinja2->gradio) (2.1.1)\n",
      "Requirement already satisfied: mdurl~=0.1 in /opt/anaconda3/lib/python3.7/site-packages (from markdown-it-py[linkify,plugins]->gradio) (0.1.2)\n",
      "Requirement already satisfied: mdit-py-plugins in /opt/anaconda3/lib/python3.7/site-packages (from markdown-it-py[linkify,plugins]->gradio) (0.3.1)\n",
      "Requirement already satisfied: linkify-it-py~=1.0 in /opt/anaconda3/lib/python3.7/site-packages (from markdown-it-py[linkify,plugins]->gradio) (1.0.3)\n",
      "Requirement already satisfied: fonttools>=4.22.0 in /opt/anaconda3/lib/python3.7/site-packages (from matplotlib->gradio) (4.25.0)\n",
      "Requirement already satisfied: kiwisolver>=1.0.1 in /opt/anaconda3/lib/python3.7/site-packages (from matplotlib->gradio) (1.4.2)\n",
      "Requirement already satisfied: packaging>=20.0 in /opt/anaconda3/lib/python3.7/site-packages (from matplotlib->gradio) (21.3)\n",
      "Requirement already satisfied: pyparsing>=2.2.1 in /opt/anaconda3/lib/python3.7/site-packages (from matplotlib->gradio) (3.0.9)\n",
      "Requirement already satisfied: cycler>=0.10 in /opt/anaconda3/lib/python3.7/site-packages (from matplotlib->gradio) (0.11.0)\n",
      "Requirement already satisfied: python-dateutil>=2.7 in /opt/anaconda3/lib/python3.7/site-packages (from matplotlib->gradio) (2.8.2)\n",
      "Requirement already satisfied: pytz>=2017.3 in /opt/anaconda3/lib/python3.7/site-packages (from pandas->gradio) (2022.1)\n",
      "Requirement already satisfied: pynacl>=1.0.1 in /opt/anaconda3/lib/python3.7/site-packages (from paramiko->gradio) (1.5.0)\n",
      "Requirement already satisfied: six in /opt/anaconda3/lib/python3.7/site-packages (from paramiko->gradio) (1.16.0)\n",
      "Requirement already satisfied: cryptography>=2.5 in /opt/anaconda3/lib/python3.7/site-packages (from paramiko->gradio) (37.0.1)\n",
      "Requirement already satisfied: bcrypt>=3.1.3 in /opt/anaconda3/lib/python3.7/site-packages (from paramiko->gradio) (3.2.0)\n",
      "Requirement already satisfied: urllib3<1.27,>=1.21.1 in /opt/anaconda3/lib/python3.7/site-packages (from requests->gradio) (1.26.11)\n",
      "Requirement already satisfied: idna<4,>=2.5 in /opt/anaconda3/lib/python3.7/site-packages (from requests->gradio) (3.3)\n",
      "Requirement already satisfied: click>=7.0 in /opt/anaconda3/lib/python3.7/site-packages (from uvicorn->gradio) (8.0.4)\n",
      "Requirement already satisfied: cffi>=1.1 in /opt/anaconda3/lib/python3.7/site-packages (from bcrypt>=3.1.3->paramiko->gradio) (1.15.1)\n",
      "Requirement already satisfied: importlib-metadata in /opt/anaconda3/lib/python3.7/site-packages (from click>=7.0->uvicorn->gradio) (4.11.3)\n",
      "Requirement already satisfied: uc-micro-py in /opt/anaconda3/lib/python3.7/site-packages (from linkify-it-py~=1.0->markdown-it-py[linkify,plugins]->gradio) (1.0.1)\n",
      "Requirement already satisfied: pycparser in /opt/anaconda3/lib/python3.7/site-packages (from cffi>=1.1->bcrypt>=3.1.3->paramiko->gradio) (2.21)\n",
      "Requirement already satisfied: zipp>=0.5 in /opt/anaconda3/lib/python3.7/site-packages (from importlib-metadata->click>=7.0->uvicorn->gradio) (3.8.0)\n"
     ]
    }
   ],
   "source": [
    "#| hide\n",
    "!pip install gradio"
   ]
  },
  {
   "cell_type": "markdown",
   "id": "8027e733",
   "metadata": {},
   "source": [
    "[nbdev](https://nbdev.fast.ai/tutorials/tutorial.html) is what we're using to make this documentation easier and more presentable."
   ]
  },
  {
   "cell_type": "code",
   "execution_count": null,
   "id": "2ebe467e",
   "metadata": {},
   "outputs": [
    {
     "name": "stdout",
     "output_type": "stream",
     "text": [
      "Requirement already satisfied: nbdev in /opt/anaconda3/lib/python3.7/site-packages (2.3.7)\n",
      "Requirement already satisfied: PyYAML in /opt/anaconda3/lib/python3.7/site-packages (from nbdev) (6.0)\n",
      "Requirement already satisfied: watchdog in /opt/anaconda3/lib/python3.7/site-packages (from nbdev) (2.1.6)\n",
      "Requirement already satisfied: ghapi>=1.0.3 in /opt/anaconda3/lib/python3.7/site-packages (from nbdev) (1.0.3)\n",
      "Requirement already satisfied: astunparse in /opt/anaconda3/lib/python3.7/site-packages (from nbdev) (1.6.3)\n",
      "Requirement already satisfied: fastcore>=1.5.27 in /Users/davidramsey/.local/lib/python3.7/site-packages (from nbdev) (1.5.27)\n",
      "Requirement already satisfied: asttokens in /opt/anaconda3/lib/python3.7/site-packages (from nbdev) (2.0.5)\n",
      "Requirement already satisfied: execnb>=0.1.4 in /opt/anaconda3/lib/python3.7/site-packages (from nbdev) (0.1.4)\n",
      "Requirement already satisfied: ipython in /opt/anaconda3/lib/python3.7/site-packages (from execnb>=0.1.4->nbdev) (7.12.0)\n",
      "Requirement already satisfied: packaging in /opt/anaconda3/lib/python3.7/site-packages (from fastcore>=1.5.27->nbdev) (21.3)\n",
      "Requirement already satisfied: pip in /opt/anaconda3/lib/python3.7/site-packages (from fastcore>=1.5.27->nbdev) (22.1.2)\n",
      "Requirement already satisfied: six in /opt/anaconda3/lib/python3.7/site-packages (from asttokens->nbdev) (1.16.0)\n",
      "Requirement already satisfied: wheel<1.0,>=0.23.0 in /opt/anaconda3/lib/python3.7/site-packages (from astunparse->nbdev) (0.37.1)\n",
      "Requirement already satisfied: appnope in /opt/anaconda3/lib/python3.7/site-packages (from ipython->execnb>=0.1.4->nbdev) (0.1.2)\n",
      "Requirement already satisfied: pickleshare in /opt/anaconda3/lib/python3.7/site-packages (from ipython->execnb>=0.1.4->nbdev) (0.7.5)\n",
      "Requirement already satisfied: jedi>=0.10 in /opt/anaconda3/lib/python3.7/site-packages (from ipython->execnb>=0.1.4->nbdev) (0.14.1)\n",
      "Requirement already satisfied: pygments in /opt/anaconda3/lib/python3.7/site-packages (from ipython->execnb>=0.1.4->nbdev) (2.11.2)\n",
      "Requirement already satisfied: prompt-toolkit!=3.0.0,!=3.0.1,<3.1.0,>=2.0.0 in /opt/anaconda3/lib/python3.7/site-packages (from ipython->execnb>=0.1.4->nbdev) (3.0.20)\n",
      "Requirement already satisfied: backcall in /opt/anaconda3/lib/python3.7/site-packages (from ipython->execnb>=0.1.4->nbdev) (0.2.0)\n",
      "Requirement already satisfied: traitlets>=4.2 in /opt/anaconda3/lib/python3.7/site-packages (from ipython->execnb>=0.1.4->nbdev) (5.1.1)\n",
      "Requirement already satisfied: decorator in /opt/anaconda3/lib/python3.7/site-packages (from ipython->execnb>=0.1.4->nbdev) (5.1.1)\n",
      "Requirement already satisfied: pexpect in /opt/anaconda3/lib/python3.7/site-packages (from ipython->execnb>=0.1.4->nbdev) (4.8.0)\n",
      "Requirement already satisfied: setuptools>=18.5 in /opt/anaconda3/lib/python3.7/site-packages (from ipython->execnb>=0.1.4->nbdev) (63.4.1)\n",
      "Requirement already satisfied: pyparsing!=3.0.5,>=2.0.2 in /opt/anaconda3/lib/python3.7/site-packages (from packaging->fastcore>=1.5.27->nbdev) (3.0.9)\n",
      "Requirement already satisfied: parso>=0.5.0 in /opt/anaconda3/lib/python3.7/site-packages (from jedi>=0.10->ipython->execnb>=0.1.4->nbdev) (0.5.2)\n",
      "Requirement already satisfied: wcwidth in /opt/anaconda3/lib/python3.7/site-packages (from prompt-toolkit!=3.0.0,!=3.0.1,<3.1.0,>=2.0.0->ipython->execnb>=0.1.4->nbdev) (0.2.5)\n",
      "Requirement already satisfied: ptyprocess>=0.5 in /opt/anaconda3/lib/python3.7/site-packages (from pexpect->ipython->execnb>=0.1.4->nbdev) (0.7.0)\n"
     ]
    }
   ],
   "source": [
    "#| hide\n",
    "!pip install nbdev"
   ]
  },
  {
   "cell_type": "code",
   "execution_count": null,
   "id": "af11e277",
   "metadata": {},
   "outputs": [],
   "source": [
    "# For modeling\n",
    "from fastai.tabular.all import *\n",
    "from fastai.collab import *\n",
    "\n",
    "#for publishing the model\n",
    "import gradio as gr"
   ]
  },
  {
   "cell_type": "code",
   "execution_count": null,
   "id": "119bb17f",
   "metadata": {},
   "outputs": [],
   "source": [
    "#| hide\n",
    "path = Path('../models_and_dls')"
   ]
  },
  {
   "cell_type": "code",
   "execution_count": null,
   "id": "119a35f0",
   "metadata": {},
   "outputs": [
    {
     "data": {
      "text/html": [
       "<div>\n",
       "<style scoped>\n",
       "    .dataframe tbody tr th:only-of-type {\n",
       "        vertical-align: middle;\n",
       "    }\n",
       "\n",
       "    .dataframe tbody tr th {\n",
       "        vertical-align: top;\n",
       "    }\n",
       "\n",
       "    .dataframe thead th {\n",
       "        text-align: right;\n",
       "    }\n",
       "</style>\n",
       "<table border=\"1\" class=\"dataframe\">\n",
       "  <thead>\n",
       "    <tr style=\"text-align: right;\">\n",
       "      <th></th>\n",
       "      <th>midx</th>\n",
       "      <th>title</th>\n",
       "    </tr>\n",
       "  </thead>\n",
       "  <tbody>\n",
       "    <tr>\n",
       "      <th>0</th>\n",
       "      <td>0</td>\n",
       "      <td>#na#</td>\n",
       "    </tr>\n",
       "    <tr>\n",
       "      <th>1</th>\n",
       "      <td>1</td>\n",
       "      <td>'burbs, The (1989)</td>\n",
       "    </tr>\n",
       "    <tr>\n",
       "      <th>2</th>\n",
       "      <td>2</td>\n",
       "      <td>(500) Days of Summer (2009)</td>\n",
       "    </tr>\n",
       "    <tr>\n",
       "      <th>3</th>\n",
       "      <td>3</td>\n",
       "      <td>*batteries not included (1987)</td>\n",
       "    </tr>\n",
       "    <tr>\n",
       "      <th>4</th>\n",
       "      <td>4</td>\n",
       "      <td>...And Justice for All (1979)</td>\n",
       "    </tr>\n",
       "    <tr>\n",
       "      <th>...</th>\n",
       "      <td>...</td>\n",
       "      <td>...</td>\n",
       "    </tr>\n",
       "    <tr>\n",
       "      <th>4917</th>\n",
       "      <td>4917</td>\n",
       "      <td>[REC] (2007)</td>\n",
       "    </tr>\n",
       "    <tr>\n",
       "      <th>4918</th>\n",
       "      <td>4918</td>\n",
       "      <td>eXistenZ (1999)</td>\n",
       "    </tr>\n",
       "    <tr>\n",
       "      <th>4919</th>\n",
       "      <td>4919</td>\n",
       "      <td>xXx (2002)</td>\n",
       "    </tr>\n",
       "    <tr>\n",
       "      <th>4920</th>\n",
       "      <td>4920</td>\n",
       "      <td>xXx: State of the Union (2005)</td>\n",
       "    </tr>\n",
       "    <tr>\n",
       "      <th>4921</th>\n",
       "      <td>4921</td>\n",
       "      <td>¡Three Amigos! (1986)</td>\n",
       "    </tr>\n",
       "  </tbody>\n",
       "</table>\n",
       "<p>4922 rows × 2 columns</p>\n",
       "</div>"
      ],
      "text/plain": [
       "      midx                           title\n",
       "0        0                            #na#\n",
       "1        1              'burbs, The (1989)\n",
       "2        2     (500) Days of Summer (2009)\n",
       "3        3  *batteries not included (1987)\n",
       "4        4   ...And Justice for All (1979)\n",
       "...    ...                             ...\n",
       "4917  4917                    [REC] (2007)\n",
       "4918  4918                 eXistenZ (1999)\n",
       "4919  4919                      xXx (2002)\n",
       "4920  4920  xXx: State of the Union (2005)\n",
       "4921  4921           ¡Three Amigos! (1986)\n",
       "\n",
       "[4922 rows x 2 columns]"
      ]
     },
     "execution_count": null,
     "metadata": {},
     "output_type": "execute_result"
    }
   ],
   "source": [
    "#load your the model and movie titles with indexes (from the previous data loaders)\n",
    "titles = pd.read_csv(path/'movie_9mil_03_df_from_dls.csv'); titles"
   ]
  },
  {
   "cell_type": "code",
   "execution_count": null,
   "id": "c9f70e47",
   "metadata": {},
   "outputs": [],
   "source": [
    "learn = load_learner(path/'model_movie_predictor_large9mil_ds_19_062.pkl')"
   ]
  },
  {
   "cell_type": "code",
   "execution_count": null,
   "id": "115998e6",
   "metadata": {},
   "outputs": [],
   "source": [
    "#| export\n",
    "def get_movie_recs(full_title):\n",
    "    \"This function will use the `nn.CosineSimilarity` on the 50 latent factors for each movie to find the 30 movies most similar to your favorite movie.\"\n",
    "    movie_factors = learn.model.i_weight.weight\n",
    "    idx = int(titles[titles.title == full_title].midx)\n",
    "    distances =  nn.CosineSimilarity(dim=1)(movie_factors,movie_factors[idx][None])\n",
    "    idx = distances.argsort(descending=True)\n",
    "    return [o for o in titles.title[idx.tolist()][:30]]"
   ]
  },
  {
   "cell_type": "code",
   "execution_count": null,
   "id": "3518bfee",
   "metadata": {},
   "outputs": [],
   "source": [
    "#| export\n",
    "def search_movies(favorite_movie):\n",
    "    movies_found = ''\n",
    "    s = favorite_movie.lower()\n",
    "    #remove THE from the title\n",
    "    if s[:4] == 'the ':\n",
    "        s = s[4:]\n",
    "\n",
    "    lst = titles['title'].tolist()\n",
    "    index = []\n",
    "    i=0\n",
    "    length = len(lst)\n",
    "    while i<length:\n",
    "        if s in lst[i].lower():\n",
    "            full_title = lst[i]\n",
    "            movies_found+= str(full_title) +'\\n'\n",
    "#             print(f'Your Favorite Movies:  {full_title}')\n",
    "        i+=1\n",
    "    # write explaination in case multiple movies\n",
    "    explainer = f'If there are multiple movies above: Please paste your favorite movie into the \"favorite_movie\" box.\\n The box below is currently showing recommendations for the movie:  {full_title}'\n",
    "    #print movies found and explainer\n",
    "    output_str =  movies_found+'\\n\\n'+explainer\n",
    "    \n",
    "    #get recommendations from model\n",
    "    recommendations = get_movie_recs(full_title) \n",
    "    #create list of all the recommendations to print\n",
    "    print_lst = ''\n",
    "    for o in recommendations:    print_lst =print_lst+str(o) + '\\n'\n",
    "    \n",
    "    \n",
    "#     return  f'Will Recommend for:  {full_title}', output_str, recomendations\n",
    "    return output_str, f'Recommendations for {full_title}: \\n\\n {print_lst}'"
   ]
  },
  {
   "cell_type": "code",
   "execution_count": null,
   "id": "b31a5548",
   "metadata": {},
   "outputs": [
    {
     "name": "stdout",
     "output_type": "stream",
     "text": [
      "Running on local URL:  http://127.0.0.1:7861\n",
      "\n",
      "To create a public link, set `share=True` in `launch()`.\n"
     ]
    },
    {
     "data": {
      "text/html": [
       "<div><iframe src=\"http://127.0.0.1:7861/\" width=\"900\" height=\"500\" allow=\"autoplay; camera; microphone; clipboard-read; clipboard-write;\" frameborder=\"0\" allowfullscreen></iframe></div>"
      ],
      "text/plain": [
       "<IPython.core.display.HTML object>"
      ]
     },
     "metadata": {},
     "output_type": "display_data"
    },
    {
     "data": {
      "text/plain": [
       "(<gradio.routes.App>, 'http://127.0.0.1:7861/', None)"
      ]
     },
     "execution_count": null,
     "metadata": {},
     "output_type": "execute_result"
    }
   ],
   "source": [
    "intf = gr.Interface(fn=search_movies,\n",
    "                    inputs=gr.Textbox(lines=1,placeholder=\"Put Your Favorite Movie Here To See Similar Movie Recommendations...\"),\n",
    "                    outputs=[\"text\",\"text\"],\n",
    "                    examples=['Child\\'s Play (1988)','Rushmore','brothers Bloom','call me by your name', 'Jumanji (1995)','The Three Amigos'],\n",
    "                    title=\"Dave's Fast.AI Movie Recommender\",\n",
    "                    article='This recommender uses a collaborative filtering model fashioned from the [Fast.AI](https://github.com/fastai/fastbook/blob/master/08_collab.ipynb) library and trained on the 9 million movie reviews from the [Movie Lense Dataset](https://grouplens.org/datasets/movielens/25m/).  It trains Latent Factors to give movies and users descriptive weights that help predict thier reivews based on these factors.  The model was trained completely WITHOUT titles, descriptions, or categories and amazingly these things can be added to imporove this model.  Enjoy!'                    \n",
    ")\n",
    "intf.launch(\n",
    "    inline=True, #True publishes the page in notebook\n",
    "    share=False) #True temporarily publishes the app on gradio website for 72 hours"
   ]
  },
  {
   "cell_type": "markdown",
   "id": "f743ae7b",
   "metadata": {},
   "source": [
    "# Example of one of my favorite movies"
   ]
  },
  {
   "cell_type": "code",
   "execution_count": null,
   "id": "eb25b590",
   "metadata": {},
   "outputs": [],
   "source": [
    "favorite_movie = 'Beasts of the Southern Wild (2012)'"
   ]
  },
  {
   "cell_type": "code",
   "execution_count": null,
   "id": "fd76d7ac",
   "metadata": {},
   "outputs": [
    {
     "data": {
      "text/plain": [
       "['Beasts of the Southern Wild (2012)',\n",
       " 'Ginger Snaps (2000)',\n",
       " 'Leaving Las Vegas (1995)',\n",
       " 'Being John Malkovich (1999)',\n",
       " 'Little Children (2006)',\n",
       " 'Ghost World (2001)',\n",
       " 'Yellow Submarine (1968)',\n",
       " 'Secret of Roan Inish, The (1994)',\n",
       " 'Louis C.K.: Live at The Comedy Store (2015)',\n",
       " 'Neon Genesis Evangelion: The End of Evangelion (Shin seiki Evangelion Gekijô-ban: Air/Magokoro wo, kimi ni) (1997)',\n",
       " 'Atlantic City (1980)',\n",
       " 'Z (1969)',\n",
       " 'Sex, Lies, and Videotape (1989)',\n",
       " 'Princess and the Warrior, The (Krieger und die Kaiserin, Der) (2000)',\n",
       " 'Act of Killing, The (2012)',\n",
       " 'Birdman: Or (The Unexpected Virtue of Ignorance) (2014)',\n",
       " '24 Hour Party People (2002)',\n",
       " 'Animal Kingdom (2010)',\n",
       " 'Breaking the Waves (1996)',\n",
       " 'Rushmore (1998)',\n",
       " 'Videodrome (1983)',\n",
       " 'Last Night (1998)',\n",
       " 'City of God (Cidade de Deus) (2002)',\n",
       " 'Nosferatu (Nosferatu, eine Symphonie des Grauens) (1922)',\n",
       " 'Shining, The (1980)',\n",
       " 'Underground (1995)',\n",
       " 'Proposition, The (2005)',\n",
       " 'Brothers Bloom, The (2008)',\n",
       " 'Exit Through the Gift Shop (2010)',\n",
       " 'Lost in Translation (2003)']"
      ]
     },
     "execution_count": null,
     "metadata": {},
     "output_type": "execute_result"
    }
   ],
   "source": [
    "get_movie_recs(full_title=favorite_movie)"
   ]
  },
  {
   "cell_type": "code",
   "execution_count": null,
   "id": "8bf92c4d",
   "metadata": {},
   "outputs": [],
   "source": [
    "#| hide\n",
    "import nbdev; nbdev.nbdev_export()"
   ]
  }
 ],
 "metadata": {
  "kernelspec": {
   "display_name": "Python 3",
   "language": "python",
   "name": "python3"
  }
 },
 "nbformat": 4,
 "nbformat_minor": 5
}
